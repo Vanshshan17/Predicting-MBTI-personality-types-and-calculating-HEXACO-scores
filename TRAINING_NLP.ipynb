{
 "cells": [
  {
   "cell_type": "code",
   "execution_count": null,
   "id": "e5b86087",
   "metadata": {},
   "outputs": [],
   "source": []
  },
  {
   "cell_type": "code",
   "execution_count": 1,
   "id": "64521ea4",
   "metadata": {},
   "outputs": [
    {
     "ename": "ModuleNotFoundError",
     "evalue": "No module named 'gensim'",
     "output_type": "error",
     "traceback": [
      "\u001b[1;31m---------------------------------------------------------------------------\u001b[0m",
      "\u001b[1;31mModuleNotFoundError\u001b[0m                       Traceback (most recent call last)",
      "Cell \u001b[1;32mIn[1], line 1\u001b[0m\n\u001b[1;32m----> 1\u001b[0m \u001b[38;5;28;01mimport\u001b[39;00m \u001b[38;5;21;01mgensim\u001b[39;00m\n",
      "\u001b[1;31mModuleNotFoundError\u001b[0m: No module named 'gensim'"
     ]
    }
   ],
   "source": [
    "import gensim"
   ]
  },
  {
   "cell_type": "code",
   "execution_count": 2,
   "id": "8d0c7e26",
   "metadata": {},
   "outputs": [],
   "source": [
    "import joblib"
   ]
  },
  {
   "cell_type": "code",
   "execution_count": 3,
   "id": "d2236957",
   "metadata": {},
   "outputs": [],
   "source": [
    "import pandas as pd\n",
    "from sklearn.metrics.pairwise import cosine_similarity"
   ]
  },
  {
   "cell_type": "code",
   "execution_count": 4,
   "id": "fa892362",
   "metadata": {},
   "outputs": [],
   "source": [
    "import gensim.downloader as api\n",
    "dataset = api.load(\"text8\")\n",
    "data = [i for i in dataset]"
   ]
  },
  {
   "cell_type": "code",
   "execution_count": 5,
   "id": "070acec8",
   "metadata": {},
   "outputs": [],
   "source": [
    "my_model = joblib.load('model_2.pkl')"
   ]
  },
  {
   "cell_type": "code",
   "execution_count": 6,
   "id": "fba04dbb",
   "metadata": {},
   "outputs": [],
   "source": [
    "sentences =[\"honesty\", \"emotionality\", \"extraversion\", \"agreeableness\", \"conscientiousness\",\"openness to experience\"]"
   ]
  },
  {
   "cell_type": "code",
   "execution_count": 7,
   "id": "cccb1fee",
   "metadata": {},
   "outputs": [],
   "source": [
    "data = pd.read_csv(\"data_new.csv\")"
   ]
  },
  {
   "cell_type": "code",
   "execution_count": 8,
   "id": "2eae6216",
   "metadata": {},
   "outputs": [],
   "source": [
    "x = data.iloc[0,1]"
   ]
  },
  {
   "cell_type": "code",
   "execution_count": 9,
   "id": "1f290ad2",
   "metadata": {},
   "outputs": [],
   "source": [
    "vectors1 = [my_model.infer_vector([word for word in sent]).reshape(1,-1) for sent in sentences]\n",
    "vectors2 = [my_model.infer_vector([word for word in x]).reshape(1,-1)]"
   ]
  },
  {
   "cell_type": "code",
   "execution_count": 10,
   "id": "716c4e13",
   "metadata": {},
   "outputs": [],
   "source": [
    "sim_values=[]\n",
    "for i in range(len(data)):\n",
    "    x=data.iloc[i,1]\n",
    "    vectors2 = [my_model.infer_vector([word for word in x]).reshape(1,-1)]\n",
    "    array=[]\n",
    "    for j in range(0,6):\n",
    "        similarity = cosine_similarity(vectors1[j],vectors2[0])\n",
    "        array.append(similarity[0][0])  \n",
    "    array.append(data.iloc[i,1])\n",
    "    sim_values.append(array)\n",
    "df=pd.DataFrame(data=sim_values,columns=['h','e','x','a','c','o','type'])\n",
    "df.to_csv(\"scores_new.csv\")"
   ]
  },
  {
   "cell_type": "code",
   "execution_count": null,
   "id": "e6b05695",
   "metadata": {},
   "outputs": [],
   "source": []
  }
 ],
 "metadata": {
  "kernelspec": {
   "display_name": "Python 3 (ipykernel)",
   "language": "python",
   "name": "python3"
  },
  "language_info": {
   "codemirror_mode": {
    "name": "ipython",
    "version": 3
   },
   "file_extension": ".py",
   "mimetype": "text/x-python",
   "name": "python",
   "nbconvert_exporter": "python",
   "pygments_lexer": "ipython3",
   "version": "3.11.1"
  }
 },
 "nbformat": 4,
 "nbformat_minor": 5
}
