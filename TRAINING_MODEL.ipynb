{
 "cells": [
  {
   "cell_type": "code",
   "execution_count": 1,
   "id": "71c4fc12",
   "metadata": {},
   "outputs": [],
   "source": [
    "import gensim"
   ]
  },
  {
   "cell_type": "code",
   "execution_count": 2,
   "id": "2745ea7c",
   "metadata": {},
   "outputs": [],
   "source": [
    "import joblib"
   ]
  },
  {
   "cell_type": "code",
   "execution_count": 3,
   "id": "dd98805d",
   "metadata": {},
   "outputs": [],
   "source": [
    "import pandas as pd\n",
    "from sklearn.metrics.pairwise import cosine_similarity"
   ]
  },
  {
   "cell_type": "code",
   "execution_count": 4,
   "id": "9f2c3e39",
   "metadata": {},
   "outputs": [
    {
     "name": "stdout",
     "output_type": "stream",
     "text": [
      "[==================================================] 100.0% 31.6/31.6MB downloaded\n"
     ]
    }
   ],
   "source": [
    "import gensim.downloader as api\n",
    "dataset = api.load(\"text8\")\n",
    "data = [i for i in dataset]"
   ]
  },
  {
   "cell_type": "code",
   "execution_count": 9,
   "id": "36045133",
   "metadata": {},
   "outputs": [],
   "source": [
    "my_model = joblib.load('model_2.pkl')"
   ]
  },
  {
   "cell_type": "code",
   "execution_count": 10,
   "id": "9c935e45",
   "metadata": {},
   "outputs": [],
   "source": [
    "sentences =[\"honesty\", \"emotionality\", \"extraversion\", \"agreeableness\", \"conscientiousness\",\"openness to experience\"]"
   ]
  },
  {
   "cell_type": "code",
   "execution_count": 11,
   "id": "d51022ea",
   "metadata": {},
   "outputs": [],
   "source": [
    "data =pd.read_csv(\"data_new.csv\")"
   ]
  },
  {
   "cell_type": "code",
   "execution_count": 12,
   "id": "e7a0bceb",
   "metadata": {},
   "outputs": [],
   "source": [
    "x = data.iloc[0,2]"
   ]
  },
  {
   "cell_type": "code",
   "execution_count": 13,
   "id": "714f2fa0",
   "metadata": {},
   "outputs": [],
   "source": [
    "vectors1 = [my_model.infer_vector([word for word in sent]).reshape(1,-1) for sent in sentences]\n",
    "vectors2 = [my_model.infer_vector([word for word in x]).reshape(1,-1)]"
   ]
  },
  {
   "cell_type": "code",
   "execution_count": null,
   "id": "a77f14b3",
   "metadata": {
    "scrolled": true
   },
   "outputs": [],
   "source": [
    "sim_values=[]\n",
    "for i in range(len(data)):\n",
    "    x=data.iloc[i,2]\n",
    "    vectors2 = [my_model.infer_vector([word for word in x]).reshape(1,-1)]\n",
    "    array=[]\n",
    "    for j in range(0,6):\n",
    "        similarity = cosine_similarity(vectors1[j],vectors2[0])\n",
    "        array.append(similarity[0][0])  \n",
    "    array.append(data.iloc[i,1])\n",
    "    sim_values.append(array)\n",
    "df=pd.DataFrame(data=sim_values,columns=['h','e','x','a','c','o','type'])\n",
    "df.to_csv(\"scores.csv\")"
   ]
  },
  {
   "cell_type": "code",
   "execution_count": null,
   "id": "11cc6a1a",
   "metadata": {},
   "outputs": [],
   "source": [
    "df=pd.DataFrame(data=sim_values,columns=['h','e','x','a','c','o','type'])\n",
    "df.to_csv(\"scores.csv\")"
   ]
  },
  {
   "cell_type": "markdown",
   "id": "3869a8e8",
   "metadata": {},
   "source": [
    "# BUILDING MODEL"
   ]
  },
  {
   "cell_type": "code",
   "execution_count": 6,
   "id": "0deedcc3",
   "metadata": {},
   "outputs": [],
   "source": [
    "def tagged_document(list_of_list_of_words):\n",
    "   for i, list_of_words in enumerate(list_of_list_of_words):\n",
    "      yield gensim.models.doc2vec.TaggedDocument(list_of_words, [i])\n",
    " \n",
    "training_data = list(tagged_document(data))\n",
    "model = gensim.models.doc2vec.Doc2Vec(vector_size=40, min_count=2, epochs=30)\n",
    " \n",
    "model.build_vocab(training_data)\n",
    "model.train(training_data, total_examples=model.corpus_count, epochs=model.epochs)"
   ]
  },
  {
   "cell_type": "code",
   "execution_count": 7,
   "id": "4a060565",
   "metadata": {},
   "outputs": [
    {
     "data": {
      "text/plain": [
       "<gensim.models.doc2vec.Doc2Vec at 0x2791f247f10>"
      ]
     },
     "execution_count": 7,
     "metadata": {},
     "output_type": "execute_result"
    }
   ],
   "source": [
    "model"
   ]
  },
  {
   "cell_type": "code",
   "execution_count": 8,
   "id": "efc9cef4",
   "metadata": {},
   "outputs": [
    {
     "data": {
      "text/plain": [
       "['model_2.pkl']"
      ]
     },
     "execution_count": 8,
     "metadata": {},
     "output_type": "execute_result"
    }
   ],
   "source": [
    "joblib.dump(model, 'model_2.pkl')"
   ]
  },
  {
   "cell_type": "code",
   "execution_count": null,
   "id": "e9f240be",
   "metadata": {},
   "outputs": [],
   "source": []
  }
 ],
 "metadata": {
  "kernelspec": {
   "display_name": "Python 3 (ipykernel)",
   "language": "python",
   "name": "python3"
  },
  "language_info": {
   "codemirror_mode": {
    "name": "ipython",
    "version": 3
   },
   "file_extension": ".py",
   "mimetype": "text/x-python",
   "name": "python",
   "nbconvert_exporter": "python",
   "pygments_lexer": "ipython3",
   "version": "3.11.4"
  }
 },
 "nbformat": 4,
 "nbformat_minor": 5
}
